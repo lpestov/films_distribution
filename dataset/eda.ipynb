{
 "cells": [
  {
   "metadata": {
    "ExecuteTime": {
     "end_time": "2024-12-05T13:18:36.846432Z",
     "start_time": "2024-12-05T13:18:36.842853Z"
    }
   },
   "cell_type": "code",
   "source": "import pandas as pd",
   "id": "640199d3e278630e",
   "outputs": [],
   "execution_count": 1
  },
  {
   "metadata": {
    "ExecuteTime": {
     "end_time": "2024-12-05T13:18:38.217392Z",
     "start_time": "2024-12-05T13:18:36.872252Z"
    }
   },
   "cell_type": "code",
   "source": "df = pd.read_csv('train.csv')",
   "id": "920a7af409dea04",
   "outputs": [],
   "execution_count": 2
  },
  {
   "metadata": {
    "ExecuteTime": {
     "end_time": "2024-12-05T13:18:38.447411Z",
     "start_time": "2024-12-05T13:18:38.429288Z"
    }
   },
   "cell_type": "code",
   "source": "df.head()",
   "id": "8ac426c2542de70e",
   "outputs": [
    {
     "data": {
      "text/plain": [
       "        movie title - year      genre               expanded-genres  rating  \\\n",
       "0      Flaming Ears - 1992    Fantasy               Fantasy, Sci-Fi     6.0   \n",
       "1    Jeg elsker dig - 1957    Romance        Comedy, Drama, Romance     5.8   \n",
       "2        Povjerenje - 2021   Thriller                      Thriller     NaN   \n",
       "3  Gulliver Returns - 2021    Fantasy  Animation, Adventure, Family     4.4   \n",
       "4   Prithvi Vallabh - 1924  Biography     Biography, Drama, Romance     NaN   \n",
       "\n",
       "                                         description  \n",
       "0  Flaming Ears is a pop sci-fi lesbian fantasy f...  \n",
       "1  Six people - three couples - meet at random at...  \n",
       "2  In a small unnamed town, in year 2025, Krsto w...  \n",
       "3  The legendary Gulliver returns to the Kingdom ...  \n",
       "4  Seminal silent historical film, the story feat...  "
      ],
      "text/html": [
       "<div>\n",
       "<style scoped>\n",
       "    .dataframe tbody tr th:only-of-type {\n",
       "        vertical-align: middle;\n",
       "    }\n",
       "\n",
       "    .dataframe tbody tr th {\n",
       "        vertical-align: top;\n",
       "    }\n",
       "\n",
       "    .dataframe thead th {\n",
       "        text-align: right;\n",
       "    }\n",
       "</style>\n",
       "<table border=\"1\" class=\"dataframe\">\n",
       "  <thead>\n",
       "    <tr style=\"text-align: right;\">\n",
       "      <th></th>\n",
       "      <th>movie title - year</th>\n",
       "      <th>genre</th>\n",
       "      <th>expanded-genres</th>\n",
       "      <th>rating</th>\n",
       "      <th>description</th>\n",
       "    </tr>\n",
       "  </thead>\n",
       "  <tbody>\n",
       "    <tr>\n",
       "      <th>0</th>\n",
       "      <td>Flaming Ears - 1992</td>\n",
       "      <td>Fantasy</td>\n",
       "      <td>Fantasy, Sci-Fi</td>\n",
       "      <td>6.0</td>\n",
       "      <td>Flaming Ears is a pop sci-fi lesbian fantasy f...</td>\n",
       "    </tr>\n",
       "    <tr>\n",
       "      <th>1</th>\n",
       "      <td>Jeg elsker dig - 1957</td>\n",
       "      <td>Romance</td>\n",
       "      <td>Comedy, Drama, Romance</td>\n",
       "      <td>5.8</td>\n",
       "      <td>Six people - three couples - meet at random at...</td>\n",
       "    </tr>\n",
       "    <tr>\n",
       "      <th>2</th>\n",
       "      <td>Povjerenje - 2021</td>\n",
       "      <td>Thriller</td>\n",
       "      <td>Thriller</td>\n",
       "      <td>NaN</td>\n",
       "      <td>In a small unnamed town, in year 2025, Krsto w...</td>\n",
       "    </tr>\n",
       "    <tr>\n",
       "      <th>3</th>\n",
       "      <td>Gulliver Returns - 2021</td>\n",
       "      <td>Fantasy</td>\n",
       "      <td>Animation, Adventure, Family</td>\n",
       "      <td>4.4</td>\n",
       "      <td>The legendary Gulliver returns to the Kingdom ...</td>\n",
       "    </tr>\n",
       "    <tr>\n",
       "      <th>4</th>\n",
       "      <td>Prithvi Vallabh - 1924</td>\n",
       "      <td>Biography</td>\n",
       "      <td>Biography, Drama, Romance</td>\n",
       "      <td>NaN</td>\n",
       "      <td>Seminal silent historical film, the story feat...</td>\n",
       "    </tr>\n",
       "  </tbody>\n",
       "</table>\n",
       "</div>"
      ]
     },
     "execution_count": 3,
     "metadata": {},
     "output_type": "execute_result"
    }
   ],
   "execution_count": 3
  },
  {
   "metadata": {
    "ExecuteTime": {
     "end_time": "2024-12-05T13:18:39.035753Z",
     "start_time": "2024-12-05T13:18:38.550585Z"
    }
   },
   "cell_type": "code",
   "source": [
    "## посмотрим на дубликаты\n",
    "\n",
    "len(df)-len(df.drop_duplicates())"
   ],
   "id": "9ce362e141bbc8c7",
   "outputs": [
    {
     "data": {
      "text/plain": [
       "18"
      ]
     },
     "execution_count": 4,
     "metadata": {},
     "output_type": "execute_result"
    }
   ],
   "execution_count": 4
  },
  {
   "metadata": {
    "ExecuteTime": {
     "end_time": "2024-12-05T13:18:40.050329Z",
     "start_time": "2024-12-05T13:18:39.246639Z"
    }
   },
   "cell_type": "code",
   "source": [
    "## удалим дубликаты\n",
    "\n",
    "df = df.drop_duplicates()\n",
    "len(df)-len(df.drop_duplicates())"
   ],
   "id": "f9e280878e27cbcf",
   "outputs": [
    {
     "data": {
      "text/plain": [
       "0"
      ]
     },
     "execution_count": 5,
     "metadata": {},
     "output_type": "execute_result"
    }
   ],
   "execution_count": 5
  },
  {
   "metadata": {
    "ExecuteTime": {
     "end_time": "2024-12-05T13:18:40.091736Z",
     "start_time": "2024-12-05T13:18:40.063185Z"
    }
   },
   "cell_type": "code",
   "source": [
    "## так как нам нужны только 3 фичи: movie title - year, genre, rating - удалим все остальные\n",
    "\n",
    "df = df[['movie title - year', 'genre', 'rating']]"
   ],
   "id": "9826cd27645f9434",
   "outputs": [],
   "execution_count": 6
  },
  {
   "metadata": {
    "ExecuteTime": {
     "end_time": "2024-12-05T13:18:40.135484Z",
     "start_time": "2024-12-05T13:18:40.123585Z"
    }
   },
   "cell_type": "code",
   "source": "df",
   "id": "52f2cf22de122a9",
   "outputs": [
    {
     "data": {
      "text/plain": [
       "                  movie title - year      genre  rating\n",
       "0                Flaming Ears - 1992    Fantasy     6.0\n",
       "1              Jeg elsker dig - 1957    Romance     5.8\n",
       "2                  Povjerenje - 2021   Thriller     NaN\n",
       "3            Gulliver Returns - 2021    Fantasy     4.4\n",
       "4             Prithvi Vallabh - 1924  Biography     NaN\n",
       "...                              ...        ...     ...\n",
       "238251              Kaalapani - 1996    History     8.5\n",
       "238252             The Set-Up - 2014     Action     5.8\n",
       "238253  Der Bucklige von Soho - 1966     Horror     5.8\n",
       "238254        The Shadow Thing - nan     Horror     NaN\n",
       "238255      Gatwick Gangsters - 2017  Adventure     2.7\n",
       "\n",
       "[238238 rows x 3 columns]"
      ],
      "text/html": [
       "<div>\n",
       "<style scoped>\n",
       "    .dataframe tbody tr th:only-of-type {\n",
       "        vertical-align: middle;\n",
       "    }\n",
       "\n",
       "    .dataframe tbody tr th {\n",
       "        vertical-align: top;\n",
       "    }\n",
       "\n",
       "    .dataframe thead th {\n",
       "        text-align: right;\n",
       "    }\n",
       "</style>\n",
       "<table border=\"1\" class=\"dataframe\">\n",
       "  <thead>\n",
       "    <tr style=\"text-align: right;\">\n",
       "      <th></th>\n",
       "      <th>movie title - year</th>\n",
       "      <th>genre</th>\n",
       "      <th>rating</th>\n",
       "    </tr>\n",
       "  </thead>\n",
       "  <tbody>\n",
       "    <tr>\n",
       "      <th>0</th>\n",
       "      <td>Flaming Ears - 1992</td>\n",
       "      <td>Fantasy</td>\n",
       "      <td>6.0</td>\n",
       "    </tr>\n",
       "    <tr>\n",
       "      <th>1</th>\n",
       "      <td>Jeg elsker dig - 1957</td>\n",
       "      <td>Romance</td>\n",
       "      <td>5.8</td>\n",
       "    </tr>\n",
       "    <tr>\n",
       "      <th>2</th>\n",
       "      <td>Povjerenje - 2021</td>\n",
       "      <td>Thriller</td>\n",
       "      <td>NaN</td>\n",
       "    </tr>\n",
       "    <tr>\n",
       "      <th>3</th>\n",
       "      <td>Gulliver Returns - 2021</td>\n",
       "      <td>Fantasy</td>\n",
       "      <td>4.4</td>\n",
       "    </tr>\n",
       "    <tr>\n",
       "      <th>4</th>\n",
       "      <td>Prithvi Vallabh - 1924</td>\n",
       "      <td>Biography</td>\n",
       "      <td>NaN</td>\n",
       "    </tr>\n",
       "    <tr>\n",
       "      <th>...</th>\n",
       "      <td>...</td>\n",
       "      <td>...</td>\n",
       "      <td>...</td>\n",
       "    </tr>\n",
       "    <tr>\n",
       "      <th>238251</th>\n",
       "      <td>Kaalapani - 1996</td>\n",
       "      <td>History</td>\n",
       "      <td>8.5</td>\n",
       "    </tr>\n",
       "    <tr>\n",
       "      <th>238252</th>\n",
       "      <td>The Set-Up - 2014</td>\n",
       "      <td>Action</td>\n",
       "      <td>5.8</td>\n",
       "    </tr>\n",
       "    <tr>\n",
       "      <th>238253</th>\n",
       "      <td>Der Bucklige von Soho - 1966</td>\n",
       "      <td>Horror</td>\n",
       "      <td>5.8</td>\n",
       "    </tr>\n",
       "    <tr>\n",
       "      <th>238254</th>\n",
       "      <td>The Shadow Thing - nan</td>\n",
       "      <td>Horror</td>\n",
       "      <td>NaN</td>\n",
       "    </tr>\n",
       "    <tr>\n",
       "      <th>238255</th>\n",
       "      <td>Gatwick Gangsters - 2017</td>\n",
       "      <td>Adventure</td>\n",
       "      <td>2.7</td>\n",
       "    </tr>\n",
       "  </tbody>\n",
       "</table>\n",
       "<p>238238 rows × 3 columns</p>\n",
       "</div>"
      ]
     },
     "execution_count": 7,
     "metadata": {},
     "output_type": "execute_result"
    }
   ],
   "execution_count": 7
  },
  {
   "metadata": {
    "ExecuteTime": {
     "end_time": "2024-12-05T13:18:40.283298Z",
     "start_time": "2024-12-05T13:18:40.241410Z"
    }
   },
   "cell_type": "code",
   "source": [
    "## посмотрим на пропущенные значения в порядке убывания\n",
    "\n",
    "df.isnull().sum().sort_values(ascending=False)"
   ],
   "id": "f3e7420fc115ee78",
   "outputs": [
    {
     "data": {
      "text/plain": [
       "rating                69705\n",
       "movie title - year        0\n",
       "genre                     0\n",
       "dtype: int64"
      ]
     },
     "execution_count": 8,
     "metadata": {},
     "output_type": "execute_result"
    }
   ],
   "execution_count": 8
  },
  {
   "metadata": {
    "ExecuteTime": {
     "end_time": "2024-12-05T13:18:40.305070Z",
     "start_time": "2024-12-05T13:18:40.297339Z"
    }
   },
   "cell_type": "code",
   "source": [
    "## слишком много фильмов без рейтинга, не будем удалять, замени nan на 0\n",
    "df['rating'] = df['rating'].fillna(0.0)"
   ],
   "id": "a9dee3f4d87df3e4",
   "outputs": [],
   "execution_count": 9
  },
  {
   "metadata": {
    "ExecuteTime": {
     "end_time": "2024-12-05T13:18:40.581146Z",
     "start_time": "2024-12-05T13:18:40.546820Z"
    }
   },
   "cell_type": "code",
   "source": "df.isnull().sum()",
   "id": "df33390840623a14",
   "outputs": [
    {
     "data": {
      "text/plain": [
       "movie title - year    0\n",
       "genre                 0\n",
       "rating                0\n",
       "dtype: int64"
      ]
     },
     "execution_count": 10,
     "metadata": {},
     "output_type": "execute_result"
    }
   ],
   "execution_count": 10
  },
  {
   "metadata": {
    "ExecuteTime": {
     "end_time": "2024-12-05T13:18:40.742235Z",
     "start_time": "2024-12-05T13:18:40.731219Z"
    }
   },
   "cell_type": "code",
   "source": "df",
   "id": "92e33e7e38678174",
   "outputs": [
    {
     "data": {
      "text/plain": [
       "                  movie title - year      genre  rating\n",
       "0                Flaming Ears - 1992    Fantasy     6.0\n",
       "1              Jeg elsker dig - 1957    Romance     5.8\n",
       "2                  Povjerenje - 2021   Thriller     0.0\n",
       "3            Gulliver Returns - 2021    Fantasy     4.4\n",
       "4             Prithvi Vallabh - 1924  Biography     0.0\n",
       "...                              ...        ...     ...\n",
       "238251              Kaalapani - 1996    History     8.5\n",
       "238252             The Set-Up - 2014     Action     5.8\n",
       "238253  Der Bucklige von Soho - 1966     Horror     5.8\n",
       "238254        The Shadow Thing - nan     Horror     0.0\n",
       "238255      Gatwick Gangsters - 2017  Adventure     2.7\n",
       "\n",
       "[238238 rows x 3 columns]"
      ],
      "text/html": [
       "<div>\n",
       "<style scoped>\n",
       "    .dataframe tbody tr th:only-of-type {\n",
       "        vertical-align: middle;\n",
       "    }\n",
       "\n",
       "    .dataframe tbody tr th {\n",
       "        vertical-align: top;\n",
       "    }\n",
       "\n",
       "    .dataframe thead th {\n",
       "        text-align: right;\n",
       "    }\n",
       "</style>\n",
       "<table border=\"1\" class=\"dataframe\">\n",
       "  <thead>\n",
       "    <tr style=\"text-align: right;\">\n",
       "      <th></th>\n",
       "      <th>movie title - year</th>\n",
       "      <th>genre</th>\n",
       "      <th>rating</th>\n",
       "    </tr>\n",
       "  </thead>\n",
       "  <tbody>\n",
       "    <tr>\n",
       "      <th>0</th>\n",
       "      <td>Flaming Ears - 1992</td>\n",
       "      <td>Fantasy</td>\n",
       "      <td>6.0</td>\n",
       "    </tr>\n",
       "    <tr>\n",
       "      <th>1</th>\n",
       "      <td>Jeg elsker dig - 1957</td>\n",
       "      <td>Romance</td>\n",
       "      <td>5.8</td>\n",
       "    </tr>\n",
       "    <tr>\n",
       "      <th>2</th>\n",
       "      <td>Povjerenje - 2021</td>\n",
       "      <td>Thriller</td>\n",
       "      <td>0.0</td>\n",
       "    </tr>\n",
       "    <tr>\n",
       "      <th>3</th>\n",
       "      <td>Gulliver Returns - 2021</td>\n",
       "      <td>Fantasy</td>\n",
       "      <td>4.4</td>\n",
       "    </tr>\n",
       "    <tr>\n",
       "      <th>4</th>\n",
       "      <td>Prithvi Vallabh - 1924</td>\n",
       "      <td>Biography</td>\n",
       "      <td>0.0</td>\n",
       "    </tr>\n",
       "    <tr>\n",
       "      <th>...</th>\n",
       "      <td>...</td>\n",
       "      <td>...</td>\n",
       "      <td>...</td>\n",
       "    </tr>\n",
       "    <tr>\n",
       "      <th>238251</th>\n",
       "      <td>Kaalapani - 1996</td>\n",
       "      <td>History</td>\n",
       "      <td>8.5</td>\n",
       "    </tr>\n",
       "    <tr>\n",
       "      <th>238252</th>\n",
       "      <td>The Set-Up - 2014</td>\n",
       "      <td>Action</td>\n",
       "      <td>5.8</td>\n",
       "    </tr>\n",
       "    <tr>\n",
       "      <th>238253</th>\n",
       "      <td>Der Bucklige von Soho - 1966</td>\n",
       "      <td>Horror</td>\n",
       "      <td>5.8</td>\n",
       "    </tr>\n",
       "    <tr>\n",
       "      <th>238254</th>\n",
       "      <td>The Shadow Thing - nan</td>\n",
       "      <td>Horror</td>\n",
       "      <td>0.0</td>\n",
       "    </tr>\n",
       "    <tr>\n",
       "      <th>238255</th>\n",
       "      <td>Gatwick Gangsters - 2017</td>\n",
       "      <td>Adventure</td>\n",
       "      <td>2.7</td>\n",
       "    </tr>\n",
       "  </tbody>\n",
       "</table>\n",
       "<p>238238 rows × 3 columns</p>\n",
       "</div>"
      ]
     },
     "execution_count": 11,
     "metadata": {},
     "output_type": "execute_result"
    }
   ],
   "execution_count": 11
  },
  {
   "metadata": {
    "ExecuteTime": {
     "end_time": "2024-12-05T13:18:41.078542Z",
     "start_time": "2024-12-05T13:18:41.073592Z"
    }
   },
   "cell_type": "code",
   "source": [
    "# посмотрим на размер датасета\n",
    "df.shape"
   ],
   "id": "b1f8d0d990f6068e",
   "outputs": [
    {
     "data": {
      "text/plain": [
       "(238238, 3)"
      ]
     },
     "execution_count": 12,
     "metadata": {},
     "output_type": "execute_result"
    }
   ],
   "execution_count": 12
  },
  {
   "metadata": {
    "ExecuteTime": {
     "end_time": "2024-12-05T13:18:42.058455Z",
     "start_time": "2024-12-05T13:18:41.482721Z"
    }
   },
   "cell_type": "code",
   "source": [
    "## запишем измененный датасет в файл\n",
    "df.to_csv('movies_cleaned.csv', index=False, header=False, sep = '|')"
   ],
   "id": "8808aeff5917889c",
   "outputs": [],
   "execution_count": 13
  }
 ],
 "metadata": {
  "kernelspec": {
   "display_name": "Python 3",
   "language": "python",
   "name": "python3"
  },
  "language_info": {
   "codemirror_mode": {
    "name": "ipython",
    "version": 2
   },
   "file_extension": ".py",
   "mimetype": "text/x-python",
   "name": "python",
   "nbconvert_exporter": "python",
   "pygments_lexer": "ipython2",
   "version": "2.7.6"
  }
 },
 "nbformat": 4,
 "nbformat_minor": 5
}
